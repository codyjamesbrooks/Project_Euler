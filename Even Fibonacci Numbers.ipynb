{
 "cells": [
  {
   "cell_type": "code",
   "execution_count": 2,
   "metadata": {},
   "outputs": [
    {
     "name": "stdout",
     "output_type": "stream",
     "text": [
      "The solution is 233168.\n"
     ]
    }
   ],
   "source": [
    "# Multiples of 3 and 5\n",
    "# Find the sum of all the multiples of 3 or 5 below 1000\n",
    "\n",
    "answer = 0\n",
    "for x in range(1,1000):\n",
    "    if x % 3 == 0 or x % 5 == 0:\n",
    "        answer += x\n",
    "print(f'The solution is {answer}.')"
   ]
  },
  {
   "cell_type": "code",
   "execution_count": 3,
   "metadata": {},
   "outputs": [
    {
     "name": "stdout",
     "output_type": "stream",
     "text": [
      "The solution is 4613732.\n"
     ]
    }
   ],
   "source": [
    "# Even Fibonacci Numbers\n",
    "\n",
    "fib = [1, 2, 3]\n",
    "\n",
    "while sum(fib[-2:]) < 4000000:\n",
    "    fib.append(sum(fib[-2:]))\n",
    "\n",
    "ans = sum(x for x in fib if x % 2 == 0)\n",
    "print(f'The solution is {ans}.')"
   ]
  },
  {
   "cell_type": "code",
   "execution_count": 31,
   "metadata": {},
   "outputs": [
    {
     "name": "stdout",
     "output_type": "stream",
     "text": [
      "The solution is 6857.\n"
     ]
    }
   ],
   "source": [
    "# Largest prime factor\n",
    "# Find largest prime factor of the number 600851475143\n",
    "    \n",
    "def is_prime(n):    \n",
    "    if n < 2: \n",
    "        return False\n",
    "    for i in range(2, n):\n",
    "        if n % i == 0:\n",
    "            return False\n",
    "    else:\n",
    "        return True\n",
    "\n",
    "factors = []\n",
    "flag = True\n",
    "n = 600851475143\n",
    "\n",
    "while is_prime(n) != True:\n",
    "    for i in range(2, int(n/2) + 1):\n",
    "        if n % i == 0:\n",
    "            factors.append(i)\n",
    "            n = n//i\n",
    "            break\n",
    "            \n",
    "print(f'The solution is {n}.')"
   ]
  },
  {
   "cell_type": "code",
   "execution_count": 36,
   "metadata": {},
   "outputs": [
    {
     "name": "stdout",
     "output_type": "stream",
     "text": [
      "The solution is 906609.\n"
     ]
    }
   ],
   "source": [
    "# Largest palindrome product\n",
    "# Find the largest palindrome made from the product of two 3-digit numbers.\n",
    "# Brute Force Solution\n",
    "\n",
    "palindromes = []\n",
    "\n",
    "for i in range(100, 1000):\n",
    "    for j in range(100, 1000):\n",
    "        product = i * j\n",
    "        if str(product) == str(product)[::-1]:\n",
    "            palindromes.append(product)\n",
    "\n",
    "print(f'The solution is {max(palindromes)}.')"
   ]
  },
  {
   "cell_type": "code",
   "execution_count": 1,
   "metadata": {},
   "outputs": [
    {
     "name": "stdout",
     "output_type": "stream",
     "text": [
      "The solution is 232792560.\n"
     ]
    }
   ],
   "source": [
    "# Smallest multiple\n",
    "# What is the smallest positive number that is evenly divisible\n",
    "# by all of the numbers from 1 to 20.\n",
    "\n",
    "flag = True\n",
    "n = 20\n",
    "stopper = [1]\n",
    "while stopper:\n",
    "    stopper = []\n",
    "    for i in range(1,21):\n",
    "        if n % i != 0:\n",
    "            stopper.append(i)\n",
    "            n += 1\n",
    "            break\n",
    "print(f'The solution is {n}.')"
   ]
  },
  {
   "cell_type": "code",
   "execution_count": 2,
   "metadata": {},
   "outputs": [
    {
     "name": "stdout",
     "output_type": "stream",
     "text": [
      "The solution is 25164150.\n"
     ]
    }
   ],
   "source": [
    "# Sum square difference\n",
    "# Find the difference between the sum of squares of the first one hundred \n",
    "# natural numbers and the square of the sum. \n",
    "\n",
    "sum_of_squares = sum(x**2 for x in range(1, 101))\n",
    "square_of_sums = sum(x for x in range(1, 101))**2\n",
    "print(f'The solution is {abs(sum_of_squares - square_of_sums)}.')"
   ]
  },
  {
   "cell_type": "code",
   "execution_count": 3,
   "metadata": {},
   "outputs": [
    {
     "name": "stdout",
     "output_type": "stream",
     "text": [
      "The solution is 104759.\n"
     ]
    }
   ],
   "source": [
    "# 10001st prime\n",
    "# By listing the first six prime numbers: 2, 3, 5, 7, 11, and 13. We can see\n",
    "# that the 6th prime is 13. What is the 10,001st prime number\n",
    "\n",
    "def is_prime(n):    \n",
    "    for i in range(2, n):\n",
    "        if n % i == 0:\n",
    "            return False\n",
    "    else:\n",
    "        return True\n",
    "\n",
    "\n",
    "primes = [2, 3, 5, 7, 11, 13]\n",
    "n = 14\n",
    "while len(primes) <= 10001:\n",
    "    if is_prime(n):\n",
    "        primes.append(n)\n",
    "        n += 1\n",
    "    else:\n",
    "        n += 1      \n",
    "print(f'The solution is {primes[-1]}.')"
   ]
  },
  {
   "cell_type": "code",
   "execution_count": null,
   "metadata": {},
   "outputs": [],
   "source": []
  }
 ],
 "metadata": {
  "kernelspec": {
   "display_name": "Python 3",
   "language": "python",
   "name": "python3"
  },
  "language_info": {
   "codemirror_mode": {
    "name": "ipython",
    "version": 3
   },
   "file_extension": ".py",
   "mimetype": "text/x-python",
   "name": "python",
   "nbconvert_exporter": "python",
   "pygments_lexer": "ipython3",
   "version": "3.8.3"
  }
 },
 "nbformat": 4,
 "nbformat_minor": 4
}

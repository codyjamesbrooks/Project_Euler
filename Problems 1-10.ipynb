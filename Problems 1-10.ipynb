{
 "cells": [
  {
   "cell_type": "code",
   "execution_count": null,
   "metadata": {},
   "outputs": [],
   "source": [
    "# Problem #1\n",
    "# Multiples of 3 and 5\n",
    "# Find the sum of all the multiples of 3 or 5 below 1000\n",
    "\n",
    "answer = 0\n",
    "for x in range(1,1000):\n",
    "    if x % 3 == 0 or x % 5 == 0:\n",
    "        answer += x\n",
    "print(f'The solution is {answer}.')"
   ]
  },
  {
   "cell_type": "code",
   "execution_count": null,
   "metadata": {},
   "outputs": [],
   "source": [
    "# Problem #2\n",
    "# Even Fibonacci Numbers\n",
    "\n",
    "fib = [1, 2, 3]\n",
    "\n",
    "while sum(fib[-2:]) < 4000000:\n",
    "    fib.append(sum(fib[-2:]))\n",
    "\n",
    "ans = sum(x for x in fib if x % 2 == 0)\n",
    "print(f'The solution is {ans}.')"
   ]
  },
  {
   "cell_type": "code",
   "execution_count": null,
   "metadata": {},
   "outputs": [],
   "source": [
    "# Problem #3\n",
    "# Largest prime factor\n",
    "# Find largest prime factor of the number 600851475143\n",
    "    \n",
    "def is_prime(n):    \n",
    "    if n < 2: \n",
    "        return False\n",
    "    for i in range(2, n):\n",
    "        if n % i == 0:\n",
    "            return False\n",
    "    else:\n",
    "        return True\n",
    "\n",
    "factors = []\n",
    "flag = True\n",
    "n = 600851475143\n",
    "\n",
    "while is_prime(n) != True:\n",
    "    for i in range(2, int(n/2) + 1):\n",
    "        if n % i == 0:\n",
    "            factors.append(i)\n",
    "            n = n//i\n",
    "            break\n",
    "            \n",
    "print(f'The solution is {n}.')"
   ]
  },
  {
   "cell_type": "code",
   "execution_count": null,
   "metadata": {},
   "outputs": [],
   "source": [
    "# Problem #4\n",
    "# Largest palindrome product\n",
    "# Find the largest palindrome made from the product of two 3-digit numbers.\n",
    "# Brute Force Solution\n",
    "\n",
    "palindromes = []\n",
    "\n",
    "for i in range(100, 1000):\n",
    "    for j in range(100, 1000):\n",
    "        product = i * j\n",
    "        if str(product) == str(product)[::-1]:\n",
    "            palindromes.append(product)\n",
    "\n",
    "print(f'The solution is {max(palindromes)}.')"
   ]
  },
  {
   "cell_type": "code",
   "execution_count": null,
   "metadata": {},
   "outputs": [],
   "source": [
    "# Problem #5\n",
    "# Smallest multiple\n",
    "# What is the smallest positive number that is evenly divisible\n",
    "# by all of the numbers from 1 to 20.\n",
    "\n",
    "flag = True\n",
    "n = 20\n",
    "stopper = [1]\n",
    "while stopper:\n",
    "    stopper = []\n",
    "    for i in range(1,21):\n",
    "        if n % i != 0:\n",
    "            stopper.append(i)\n",
    "            n += 1\n",
    "            break\n",
    "print(f'The solution is {n}.')"
   ]
  },
  {
   "cell_type": "code",
   "execution_count": null,
   "metadata": {},
   "outputs": [],
   "source": [
    "# Problem #6\n",
    "# Sum square difference\n",
    "# Find the difference between the sum of squares of the first one hundred \n",
    "# natural numbers and the square of the sum. \n",
    "\n",
    "sum_of_squares = sum(x**2 for x in range(1, 101))\n",
    "square_of_sums = sum(x for x in range(1, 101))**2\n",
    "print(f'The solution is {abs(sum_of_squares - square_of_sums)}.')"
   ]
  },
  {
   "cell_type": "code",
   "execution_count": null,
   "metadata": {},
   "outputs": [],
   "source": [
    "# Problem #7\n",
    "# 10001st prime\n",
    "# By listing the first six prime numbers: 2, 3, 5, 7, 11, and 13. We can see\n",
    "# that the 6th prime is 13. What is the 10,001st prime number\n",
    "\n",
    "def is_prime(n):    \n",
    "    for i in range(2, n):\n",
    "        if n % i == 0:\n",
    "            return False\n",
    "    else:\n",
    "        return True\n",
    "\n",
    "\n",
    "primes = [2, 3, 5, 7, 11, 13]\n",
    "n = 14\n",
    "while len(primes) <= 10001:\n",
    "    if is_prime(n):\n",
    "        primes.append(n)\n",
    "        n += 1\n",
    "    else:\n",
    "        n += 1      \n",
    "print(f'The solution is {primes[-1]}.')"
   ]
  },
  {
   "cell_type": "code",
   "execution_count": null,
   "metadata": {},
   "outputs": [],
   "source": [
    "# Problem #8\n",
    "# Largest product in a series\n",
    "# Find the 13 adjacent digits in given 1000 digit number that have the greatest\n",
    "# product. What is the value of that product. \n",
    "\n",
    "largest_product = 0\n",
    "number = '7316717653133062491922511967442657474235534919493496983520312774506326239578318016984801869478851843858615607891129494954595017379583319528532088055111254069874715852386305071569329096329522744304355766896648950445244523161731856403098711121722383113622298934233803081353362766142828064444866452387493035890729629049156044077239071381051585930796086670172427121883998797908792274921901699720888093776657273330010533678812202354218097512545405947522435258490771167055601360483958644670632441572215539753697817977846174064955149290862569321978468622482839722413756570560574902614079729686524145351004748216637048440319989000889524345065854122758866688116427171479924442928230863465674813919123162824586178664583591245665294765456828489128831426076900422421902267105562632111110937054421750694165896040807198403850962455444362981230987879927244284909188845801561660979191338754992005240636899125607176060588611646710940507754100225698315520005593572972571636269561882670428252483600823257530420752963450'\n",
    "for i in range(0, 988):\n",
    "    check = number[i:i+13]\n",
    "    if '0' in check:\n",
    "        continue\n",
    "    else:\n",
    "        product = 1\n",
    "        for x in check:\n",
    "            product *= int(x)\n",
    "        largest_product = max(largest_product, product)\n",
    "        \n",
    "print(f'The solution to the problem is {largest_product}.')    "
   ]
  },
  {
   "cell_type": "code",
   "execution_count": null,
   "metadata": {},
   "outputs": [],
   "source": [
    "# Problem #9\n",
    "# There exists exactly one Pythagorean triplet for which a + b + c = 1000\n",
    "# find the product of abc\n",
    "\n",
    "for i in range(1, 1000):\n",
    "    for j in range(1, 1000):\n",
    "        if i + j + ((i**2 + j**2)**.5) == 1000.00:\n",
    "            a = i\n",
    "            b = j\n",
    "            c = int((i**2 + j**2)**.5)\n",
    "print('a = {} b = {} c = {}'.format(a, b, c))\n",
    "print(f'The solution is {a*b*c}.')\n",
    "        "
   ]
  },
  {
   "cell_type": "code",
   "execution_count": 3,
   "metadata": {},
   "outputs": [
    {
     "name": "stdout",
     "output_type": "stream",
     "text": [
      "1999993\n",
      "The solution is 142913828922.\n"
     ]
    }
   ],
   "source": [
    "# Problem #10\n",
    "# Find the sum of all the primes below 2 million. \n",
    "\n",
    "import math\n",
    "primes = []\n",
    "n = 1\n",
    "\n",
    "def is_prime(n):    \n",
    "    if n <= 1:\n",
    "        return False\n",
    "    if n == 2:\n",
    "        return True\n",
    "    if n > 2 and n % 2 == 0:\n",
    "        return False\n",
    "    \n",
    "    max_div = math.floor(math.sqrt(n))\n",
    "    for i in range(3, 1 + max_div, 2):\n",
    "        if n % i == 0:\n",
    "            return False\n",
    "    return True\n",
    "\n",
    "while n < 2000000:\n",
    "    if is_prime(n):\n",
    "        primes.append(n)\n",
    "        n += 1\n",
    "    else:\n",
    "        n += 1\n",
    "\n",
    "print(f'The solution is {sum(primes)}.')"
   ]
  },
  {
   "cell_type": "code",
   "execution_count": null,
   "metadata": {},
   "outputs": [],
   "source": []
  }
 ],
 "metadata": {
  "kernelspec": {
   "display_name": "Python 3",
   "language": "python",
   "name": "python3"
  },
  "language_info": {
   "codemirror_mode": {
    "name": "ipython",
    "version": 3
   },
   "file_extension": ".py",
   "mimetype": "text/x-python",
   "name": "python",
   "nbconvert_exporter": "python",
   "pygments_lexer": "ipython3",
   "version": "3.8.3"
  }
 },
 "nbformat": 4,
 "nbformat_minor": 4
}

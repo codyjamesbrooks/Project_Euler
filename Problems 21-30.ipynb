{
 "cells": [
  {
   "cell_type": "code",
   "execution_count": 6,
   "metadata": {},
   "outputs": [
    {
     "name": "stdout",
     "output_type": "stream",
     "text": [
      "The solution is 31626.\n"
     ]
    }
   ],
   "source": [
    "# Problem 21\n",
    "# Let d(n) be defined as the sum of proper divisors of n \n",
    "# (numbers less than n which divide evenly into n).\n",
    "# If d(a) = b and d(b) = a, where a ≠ b, then a and b are an amicable pair and each of a \n",
    "# and b are called amicable numbers.\n",
    "\n",
    "# For example, the proper divisors of 220 are 1, 2, 4, 5, 10, 11, 20, 22, 44, 55 and 110; \n",
    "# therefore d(220) = 284. The proper divisors of 284 are 1, 2, 4, 71 and 142; so d(284) = 220.\n",
    "\n",
    "# Evaluate the sum of all the amicable numbers under 10000.\n",
    "\n",
    "def d(n):\n",
    "    return sum(filter(lambda x: n % x ==0, range(1,n)))\n",
    "\n",
    "answer = 0\n",
    "amicable = []\n",
    "for x in range(10000):\n",
    "    if x in amicable:\n",
    "        continue\n",
    "    a = d(x)\n",
    "    if d(a) == x and x != a:\n",
    "        amicable.append(x)\n",
    "        amicable.append(a)\n",
    "        answer += x + a\n",
    "print(f'The solution is {answer}.')"
   ]
  },
  {
   "cell_type": "code",
   "execution_count": 40,
   "metadata": {},
   "outputs": [
    {
     "name": "stdout",
     "output_type": "stream",
     "text": [
      "The solution is 871198282.\n"
     ]
    }
   ],
   "source": [
    "# problem 22 \n",
    "# Using names.txt (right click and 'Save Link/Target As...'), a 46K text file containing over\n",
    "# five-thousand first names, begin by sorting it into alphabetical order. Then working out the\n",
    "# alphabetical value for each name, multiply this value by its alphabetical position in the list\n",
    "# to obtain a name score.\n",
    "# For example, when the list is sorted into alphabetical order, COLIN, which is worth \n",
    "# 3 + 15 + 12 + 9 + 14 = 53, is the 938th name in the list. So, COLIN would obtain a score\n",
    "# of 938 × 53 = 49714.\n",
    "# What is the total of all the name scores in the file?\n",
    "\n",
    "filename = 'problem22.txt'\n",
    "with open(filename) as f:\n",
    "    data = f.read()\n",
    "data = [x[1:-1] for x in data.split(',')]\n",
    "data.sort()\n",
    "\n",
    "def name_score(name, pos):\n",
    "    # Functions that scores names according to the rules provided above. \n",
    "    alpha = 'abcdefghijklmnopqrstuvwxyz'\n",
    "    temp = 0\n",
    "    for char in name:\n",
    "        temp += alpha.index(char) + 1\n",
    "    return temp * pos\n",
    "\n",
    "answer = 0\n",
    "for i,name in enumerate(data):\n",
    "    answer += name_score(name.lower(), i+1)\n",
    "print(f'The solution is {answer}.')"
   ]
  },
  {
   "cell_type": "code",
   "execution_count": null,
   "metadata": {},
   "outputs": [],
   "source": []
  }
 ],
 "metadata": {
  "kernelspec": {
   "display_name": "Python 3",
   "language": "python",
   "name": "python3"
  },
  "language_info": {
   "codemirror_mode": {
    "name": "ipython",
    "version": 3
   },
   "file_extension": ".py",
   "mimetype": "text/x-python",
   "name": "python",
   "nbconvert_exporter": "python",
   "pygments_lexer": "ipython3",
   "version": "3.8.3"
  }
 },
 "nbformat": 4,
 "nbformat_minor": 4
}
